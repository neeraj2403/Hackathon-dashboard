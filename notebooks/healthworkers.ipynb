{
  "nbformat": 4,
  "nbformat_minor": 0,
  "metadata": {
    "colab": {
      "name": "healthworkers.ipynb",
      "provenance": []
    },
    "kernelspec": {
      "display_name": "Python 3",
      "name": "python3",
      "language": "python"
    }
  },
  "cells": [
    {
      "source": [
        "# Clustering States Into Zones Based on Vulnerability of Population to Covid -19\n",
        "## Using K Means Clustering"
      ],
      "cell_type": "markdown",
      "metadata": {}
    },
    {
      "cell_type": "markdown",
      "metadata": {
        "id": "miY-0F4854Zw"
      },
      "source": [
        "# Importing the libraries"
      ]
    },
    {
      "cell_type": "code",
      "metadata": {
        "id": "Btmi-6E_5MbY"
      },
      "source": [
        "import pandas as pd\r\n",
        "import numpy as np\r\n",
        "\r\n",
        "import seaborn as sns\r\n",
        "import matplotlib.pyplot as plt\r\n",
        "%matplotlib inline\r\n",
        "sns.set(rc={'figure.figsize':(15.7,8.27)})"
      ],
      "execution_count": null,
      "outputs": []
    },
    {
      "cell_type": "markdown",
      "metadata": {
        "id": "SsXxX2DD6MdP"
      },
      "source": [
        "# Importing the dataset"
      ]
    },
    {
      "cell_type": "code",
      "metadata": {
        "id": "5aQ1rbC7_8a9"
      },
      "source": [
        "df=pd.read_excel('state_wise_updated (1).xlsx')\r\n"
      ],
      "execution_count": null,
      "outputs": []
    },
    {
      "cell_type": "code",
      "metadata": {
        "id": "tsLZ0C7Rd7Jc"
      },
      "source": [
        "df=df.drop([0],axis=0)"
      ],
      "execution_count": null,
      "outputs": []
    },
    {
      "cell_type": "code",
      "metadata": {
        "colab": {
          "base_uri": "https://localhost:8080/",
          "height": 266
        },
        "id": "68Fg2AVyAhuc",
        "outputId": "1d634eb7-c054-4af1-9fbe-afaa8adeb6a0"
      },
      "source": [
        "df.head()\r\n"
      ],
      "execution_count": null,
      "outputs": [
        {
          "output_type": "execute_result",
          "data": {
            "text/html": [
              "<div>\n",
              "<style scoped>\n",
              "    .dataframe tbody tr th:only-of-type {\n",
              "        vertical-align: middle;\n",
              "    }\n",
              "\n",
              "    .dataframe tbody tr th {\n",
              "        vertical-align: top;\n",
              "    }\n",
              "\n",
              "    .dataframe thead th {\n",
              "        text-align: right;\n",
              "    }\n",
              "</style>\n",
              "<table border=\"1\" class=\"dataframe\">\n",
              "  <thead>\n",
              "    <tr style=\"text-align: right;\">\n",
              "      <th></th>\n",
              "      <th>State</th>\n",
              "      <th>Unnamed: 1</th>\n",
              "      <th>Confirmed</th>\n",
              "      <th>Recovered</th>\n",
              "      <th>Deaths</th>\n",
              "      <th>Active</th>\n",
              "      <th>Last_Updated_Time</th>\n",
              "      <th>Migrated_Other</th>\n",
              "      <th>State_code</th>\n",
              "      <th>Delta_Confirmed</th>\n",
              "      <th>Delta_Recovered</th>\n",
              "      <th>Delta_Deaths</th>\n",
              "      <th>State_Notes</th>\n",
              "      <th>Population</th>\n",
              "      <th>Density</th>\n",
              "      <th>0-4</th>\n",
              "      <th>2020-05-09 00:00:00</th>\n",
              "      <th>2020-10-14 00:00:00</th>\n",
              "      <th>15-19</th>\n",
              "      <th>20-24</th>\n",
              "      <th>25-29</th>\n",
              "      <th>30-34</th>\n",
              "      <th>35-39</th>\n",
              "      <th>40-44</th>\n",
              "      <th>45-49</th>\n",
              "      <th>50-54</th>\n",
              "      <th>55-59</th>\n",
              "      <th>60-64</th>\n",
              "      <th>65-69</th>\n",
              "      <th>70-74</th>\n",
              "      <th>75-79</th>\n",
              "      <th>80+</th>\n",
              "      <th>Health Workers(%)</th>\n",
              "      <th>Police Force</th>\n",
              "      <th>Vaccination Centres</th>\n",
              "    </tr>\n",
              "  </thead>\n",
              "  <tbody>\n",
              "    <tr>\n",
              "      <th>1</th>\n",
              "      <td>Maharashtra</td>\n",
              "      <td>NaN</td>\n",
              "      <td>1913382</td>\n",
              "      <td>1806298</td>\n",
              "      <td>49129</td>\n",
              "      <td>56823</td>\n",
              "      <td>25-12-2020 22:43</td>\n",
              "      <td>1132</td>\n",
              "      <td>MH</td>\n",
              "      <td>3431</td>\n",
              "      <td>1427</td>\n",
              "      <td>71</td>\n",
              "      <td>NaN</td>\n",
              "      <td>120837347.0</td>\n",
              "      <td>365.0</td>\n",
              "      <td>9362026.0</td>\n",
              "      <td>9820654.0</td>\n",
              "      <td>10734535.0</td>\n",
              "      <td>10627267.0</td>\n",
              "      <td>11090966.0</td>\n",
              "      <td>10147113.0</td>\n",
              "      <td>8796307.0</td>\n",
              "      <td>8247160.0</td>\n",
              "      <td>7196089.0</td>\n",
              "      <td>6032454.0</td>\n",
              "      <td>4919317.0</td>\n",
              "      <td>3885814.0</td>\n",
              "      <td>3642480.0</td>\n",
              "      <td>3078352.0</td>\n",
              "      <td>2143136.0</td>\n",
              "      <td>1062773.0</td>\n",
              "      <td>1180194.0</td>\n",
              "      <td>13.67</td>\n",
              "      <td>213382.0</td>\n",
              "      <td>3239.0</td>\n",
              "    </tr>\n",
              "    <tr>\n",
              "      <th>2</th>\n",
              "      <td>Karnataka</td>\n",
              "      <td>NaN</td>\n",
              "      <td>914488</td>\n",
              "      <td>888917</td>\n",
              "      <td>12044</td>\n",
              "      <td>13508</td>\n",
              "      <td>25-12-2020 20:23</td>\n",
              "      <td>19</td>\n",
              "      <td>KA</td>\n",
              "      <td>1005</td>\n",
              "      <td>1102</td>\n",
              "      <td>5</td>\n",
              "      <td>NaN</td>\n",
              "      <td>66165886.0</td>\n",
              "      <td>319.0</td>\n",
              "      <td>5046719.0</td>\n",
              "      <td>5241509.0</td>\n",
              "      <td>5736646.0</td>\n",
              "      <td>5827277.0</td>\n",
              "      <td>6052558.0</td>\n",
              "      <td>5771606.0</td>\n",
              "      <td>4698380.0</td>\n",
              "      <td>4695451.0</td>\n",
              "      <td>3826712.0</td>\n",
              "      <td>3519782.0</td>\n",
              "      <td>2699270.0</td>\n",
              "      <td>2142504.0</td>\n",
              "      <td>2060052.0</td>\n",
              "      <td>1520119.0</td>\n",
              "      <td>1061125.0</td>\n",
              "      <td>524426.0</td>\n",
              "      <td>625310.0</td>\n",
              "      <td>5.27</td>\n",
              "      <td>89009.0</td>\n",
              "      <td>2943.0</td>\n",
              "    </tr>\n",
              "    <tr>\n",
              "      <th>3</th>\n",
              "      <td>Andhra Pradesh</td>\n",
              "      <td>NaN</td>\n",
              "      <td>880430</td>\n",
              "      <td>869478</td>\n",
              "      <td>7091</td>\n",
              "      <td>3861</td>\n",
              "      <td>25-12-2020 19:09</td>\n",
              "      <td>0</td>\n",
              "      <td>AP</td>\n",
              "      <td>355</td>\n",
              "      <td>354</td>\n",
              "      <td>2</td>\n",
              "      <td>NaN</td>\n",
              "      <td>52883163.0</td>\n",
              "      <td>308.0</td>\n",
              "      <td>6284765.0</td>\n",
              "      <td>7304432.0</td>\n",
              "      <td>8201595.0</td>\n",
              "      <td>8093747.0</td>\n",
              "      <td>8132094.0</td>\n",
              "      <td>7799036.0</td>\n",
              "      <td>6584371.0</td>\n",
              "      <td>6507339.0</td>\n",
              "      <td>5399473.0</td>\n",
              "      <td>4657269.0</td>\n",
              "      <td>3657386.0</td>\n",
              "      <td>2909598.0</td>\n",
              "      <td>3199837.0</td>\n",
              "      <td>2167854.0</td>\n",
              "      <td>1519358.0</td>\n",
              "      <td>636989.0</td>\n",
              "      <td>754203.0</td>\n",
              "      <td>7.83</td>\n",
              "      <td>61168.0</td>\n",
              "      <td>1666.0</td>\n",
              "    </tr>\n",
              "    <tr>\n",
              "      <th>4</th>\n",
              "      <td>Tamil Nadu</td>\n",
              "      <td>NaN</td>\n",
              "      <td>812142</td>\n",
              "      <td>790965</td>\n",
              "      <td>12048</td>\n",
              "      <td>9129</td>\n",
              "      <td>25-12-2020 19:30</td>\n",
              "      <td>0</td>\n",
              "      <td>TN</td>\n",
              "      <td>1027</td>\n",
              "      <td>1103</td>\n",
              "      <td>12</td>\n",
              "      <td>NaN</td>\n",
              "      <td>76481545.0</td>\n",
              "      <td>555.0</td>\n",
              "      <td>5278701.0</td>\n",
              "      <td>5551255.0</td>\n",
              "      <td>6177547.0</td>\n",
              "      <td>6253792.0</td>\n",
              "      <td>6411543.0</td>\n",
              "      <td>6663746.0</td>\n",
              "      <td>5815560.0</td>\n",
              "      <td>5836456.0</td>\n",
              "      <td>5064209.0</td>\n",
              "      <td>4713056.0</td>\n",
              "      <td>3703460.0</td>\n",
              "      <td>3101142.0</td>\n",
              "      <td>2782608.0</td>\n",
              "      <td>1868370.0</td>\n",
              "      <td>1406529.0</td>\n",
              "      <td>710241.0</td>\n",
              "      <td>742010.0</td>\n",
              "      <td>6.72</td>\n",
              "      <td>110186.0</td>\n",
              "      <td>2581.0</td>\n",
              "    </tr>\n",
              "    <tr>\n",
              "      <th>5</th>\n",
              "      <td>Kerala</td>\n",
              "      <td>NaN</td>\n",
              "      <td>732085</td>\n",
              "      <td>664951</td>\n",
              "      <td>2931</td>\n",
              "      <td>64032</td>\n",
              "      <td>25-12-2020 21:52</td>\n",
              "      <td>171</td>\n",
              "      <td>KL</td>\n",
              "      <td>5397</td>\n",
              "      <td>4506</td>\n",
              "      <td>16</td>\n",
              "      <td>NaN</td>\n",
              "      <td>35330888.0</td>\n",
              "      <td>860.0</td>\n",
              "      <td>2453092.0</td>\n",
              "      <td>2555112.0</td>\n",
              "      <td>2822770.0</td>\n",
              "      <td>2610552.0</td>\n",
              "      <td>2665809.0</td>\n",
              "      <td>2604092.0</td>\n",
              "      <td>2455501.0</td>\n",
              "      <td>2579673.0</td>\n",
              "      <td>2412498.0</td>\n",
              "      <td>2348530.0</td>\n",
              "      <td>1928145.0</td>\n",
              "      <td>1742408.0</td>\n",
              "      <td>1414671.0</td>\n",
              "      <td>1002134.0</td>\n",
              "      <td>733372.0</td>\n",
              "      <td>501367.0</td>\n",
              "      <td>541849.0</td>\n",
              "      <td>6.06</td>\n",
              "      <td>48860.0</td>\n",
              "      <td>1297.0</td>\n",
              "    </tr>\n",
              "  </tbody>\n",
              "</table>\n",
              "</div>"
            ],
            "text/plain": [
              "            State  Unnamed: 1  ...  Police Force  Vaccination Centres\n",
              "1     Maharashtra         NaN  ...      213382.0               3239.0\n",
              "2       Karnataka         NaN  ...       89009.0               2943.0\n",
              "3  Andhra Pradesh         NaN  ...       61168.0               1666.0\n",
              "4      Tamil Nadu         NaN  ...      110186.0               2581.0\n",
              "5          Kerala         NaN  ...       48860.0               1297.0\n",
              "\n",
              "[5 rows x 35 columns]"
            ]
          },
          "metadata": {
            "tags": []
          },
          "execution_count": 7
        }
      ]
    },
    {
      "source": [
        "# Plot correlation between the Features"
      ],
      "cell_type": "markdown",
      "metadata": {}
    },
    {
      "cell_type": "code",
      "metadata": {
        "colab": {
          "base_uri": "https://localhost:8080/",
          "height": 534
        },
        "id": "xePzNgOsCHUx",
        "outputId": "e37de430-c6ee-49e1-e9a2-d20e23aee0f3"
      },
      "source": [
        "sns.set(style='darkgrid')\r\n",
        "sns.barplot(x='State',\r\n",
        "                y='Health Workers(%)',\r\n",
        "                data=df.iloc[1:10])\r\n"
      ],
      "execution_count": null,
      "outputs": [
        {
          "output_type": "execute_result",
          "data": {
            "text/plain": [
              "<matplotlib.axes._subplots.AxesSubplot at 0x7f8c641c9b38>"
            ]
          },
          "metadata": {
            "tags": []
          },
          "execution_count": 8
        },
        {
          "output_type": "display_data",
          "data": {
            "image/png": "[encoded data removed]",
            "text/plain": [
              "<Figure size 1130.4x595.44 with 1 Axes>"
            ]
          },
          "metadata": {
            "tags": []
          }
        }
      ]
    },
    {
      "cell_type": "markdown",
      "metadata": {
        "id": "1JsJ0N7a-Hdy"
      },
      "source": [
        "#Plot a bar graph between State and No of Confirmed cases"
      ]
    },
    {
      "cell_type": "code",
      "metadata": {
        "colab": {
          "base_uri": "https://localhost:8080/",
          "height": 534
        },
        "id": "Jp2m7clnCtfS",
        "outputId": "711b745d-b326-4324-ba0a-5a8cd5b152e5"
      },
      "source": [
        "sns.set(style='darkgrid')\r\n",
        "sns.barplot(x='State',\r\n",
        "                y='Confirmed',\r\n",
        "                data=df.iloc[1:10])"
      ],
      "execution_count": null,
      "outputs": [
        {
          "output_type": "execute_result",
          "data": {
            "text/plain": [
              "<matplotlib.axes._subplots.AxesSubplot at 0x7f8c64103828>"
            ]
          },
          "metadata": {
            "tags": []
          },
          "execution_count": 9
        },
        {
          "output_type": "display_data",
          "data": {
            "image/png": "[encoded data removed]",
            "text/plain": [
              "<Figure size 1130.4x595.44 with 1 Axes>"
            ]
          },
          "metadata": {
            "tags": []
          }
        }
      ]
    },
    {
      "cell_type": "markdown",
      "metadata": {
        "id": "NVdydfbx6sVq"
      },
      "source": [
        "# Using the elbow method to find out the optimal number of clusters. \n",
        "### KMeans class from the sklearn library."
      ]
    },
    {
      "cell_type": "code",
      "metadata": {
        "id": "ZMgJd4ENDOI5"
      },
      "source": [
        "from sklearn.cluster import KMeans\r\n",
        "wcss=[]"
      ],
      "execution_count": null,
      "outputs": []
    },
    {
      "cell_type": "code",
      "metadata": {
        "id": "KTZuY8CID1X2"
      },
      "source": [
        "X1=df[['Active','Health Workers(%)','State']].dropna()"
      ],
      "execution_count": null,
      "outputs": []
    },
    {
      "cell_type": "code",
      "metadata": {
        "id": "vJlNoyNopg5_"
      },
      "source": [
        "X=X1[['Active','Health Workers(%)']]"
      ],
      "execution_count": null,
      "outputs": []
    },
    {
      "cell_type": "code",
      "metadata": {
        "colab": {
          "base_uri": "https://localhost:8080/"
        },
        "id": "axgcXOScNmGK",
        "outputId": "d762aa32-367a-4005-bec1-cef8cc767c19"
      },
      "source": [
        "type(X)"
      ],
      "execution_count": null,
      "outputs": [
        {
          "output_type": "execute_result",
          "data": {
            "text/plain": [
              "pandas.core.frame.DataFrame"
            ]
          },
          "metadata": {
            "tags": []
          },
          "execution_count": 13
        }
      ]
    },
    {
      "cell_type": "code",
      "metadata": {
        "id": "weqx3qy8Nv5A"
      },
      "source": [
        "X=X.values"
      ],
      "execution_count": null,
      "outputs": []
    },
    {
      "cell_type": "code",
      "metadata": {
        "colab": {
          "base_uri": "https://localhost:8080/"
        },
        "id": "88nYPy3ZLLq3",
        "outputId": "8aad6c80-9298-438d-c68b-5cca9b6e3eb9"
      },
      "source": [
        "X"
      ],
      "execution_count": null,
      "outputs": [
        {
          "output_type": "execute_result",
          "data": {
            "text/plain": [
              "array([[5.6823e+04, 1.3670e+01],\n",
              "       [1.3508e+04, 5.2700e+00],\n",
              "       [3.8610e+03, 7.8300e+00],\n",
              "       [9.1290e+03, 6.7200e+00],\n",
              "       [6.4032e+04, 6.0600e+00],\n",
              "       [7.2670e+03, 3.2200e+00],\n",
              "       [1.6159e+04, 1.0810e+01],\n",
              "       [1.4749e+04, 9.4400e+00],\n",
              "       [2.5830e+03, 3.5400e+00],\n",
              "       [1.1700e+04, 3.9200e+00],\n",
              "       [1.4759e+04, 1.6600e+00],\n",
              "       [4.7500e+03, 2.0900e+00],\n",
              "       [5.3470e+03, 4.4200e+00],\n",
              "       [1.0531e+04, 4.2700e+00],\n",
              "       [1.0461e+04, 4.7500e+00],\n",
              "       [3.4220e+03, 1.9100e+00],\n",
              "       [4.7070e+03, 3.1900e+00],\n",
              "       [3.4140e+03, 1.0800e+00],\n",
              "       [1.5870e+03, 2.0000e+00],\n",
              "       [5.5100e+03, 8.9000e-01],\n",
              "       [4.3470e+03, 7.6000e-01],\n",
              "       [9.8000e+02, 2.9000e-01],\n",
              "       [3.4900e+02, 2.5000e-01],\n",
              "       [1.8400e+02, 2.8000e-01],\n",
              "       [1.3520e+03, 2.7000e-01],\n",
              "       [3.4500e+02, 3.0000e-01],\n",
              "       [1.6800e+02, 1.4000e-01],\n",
              "       [2.9400e+02, 1.7000e-01],\n",
              "       [2.7400e+02, 2.6000e-01],\n",
              "       [4.1800e+02, 1.2000e-01],\n",
              "       [6.9000e+01, 9.0000e-02],\n",
              "       [1.3400e+02, 2.5000e-01],\n",
              "       [1.2000e+01, 3.0000e-02],\n",
              "       [0.0000e+00, 1.0000e-02]])"
            ]
          },
          "metadata": {
            "tags": []
          },
          "execution_count": 15
        }
      ]
    },
    {
      "cell_type": "code",
      "metadata": {
        "colab": {
          "base_uri": "https://localhost:8080/"
        },
        "id": "xlty57GfogHT",
        "outputId": "9d1987fb-7050-4b8f-c1d6-3a90d8f9f3c7"
      },
      "source": [
        "len(X)"
      ],
      "execution_count": null,
      "outputs": [
        {
          "output_type": "execute_result",
          "data": {
            "text/plain": [
              "34"
            ]
          },
          "metadata": {
            "tags": []
          },
          "execution_count": 16
        }
      ]
    },
    {
      "cell_type": "markdown",
      "metadata": {
        "id": "ZEoVFrwZ61I6"
      },
      "source": [
        "### This loop will fit the k-means algorithm to our data and  we will compute within the cluster sum of squares and appended to our wcss list."
      ]
    },
    {
      "cell_type": "code",
      "metadata": {
        "id": "yI4f7cg1Gc5G"
      },
      "source": [
        "for i in range(1,11): \r\n",
        "     kmeans = KMeans(n_clusters=i, init ='k-means++', max_iter=300,  n_init=10,random_state=0 )\r\n",
        "     kmeans.fit(X)\r\n",
        "     wcss.append(kmeans.inertia_)"
      ],
      "execution_count": null,
      "outputs": []
    },
    {
      "cell_type": "markdown",
      "metadata": {
        "id": "TLf6O8g47kBc"
      },
      "source": [
        "## Plot the elbow graph"
      ]
    },
    {
      "cell_type": "code",
      "metadata": {
        "colab": {
          "base_uri": "https://localhost:8080/",
          "height": 533
        },
        "id": "PSY1pEDtGjMm",
        "outputId": "db1e7098-3a3d-454a-c80a-93a33c74cf81"
      },
      "source": [
        "plt.plot(range(1,11),wcss)\r\n",
        "plt.title('The Elbow Method Graph')\r\n",
        "plt.xlabel('Number of clusters')\r\n",
        "plt.ylabel('WCSS')\r\n",
        "plt.show()"
      ],
      "execution_count": null,
      "outputs": [
        {
          "output_type": "display_data",
          "data": {
            "image/png": "[encoded data removed]",
            "text/plain": [
              "<Figure size 1130.4x595.44 with 1 Axes>"
            ]
          },
          "metadata": {
            "tags": []
          }
        }
      ]
    },
    {
      "source": [
        "### The best value of K was found to be 3"
      ],
      "cell_type": "markdown",
      "metadata": {}
    },
    {
      "cell_type": "code",
      "metadata": {
        "id": "h6X1fL-RHTFI"
      },
      "source": [
        "kmeans = KMeans(n_clusters=3, init ='k-means++', max_iter=300, n_init=10,random_state=0 )"
      ],
      "execution_count": null,
      "outputs": []
    },
    {
      "cell_type": "code",
      "metadata": {
        "id": "DXwRTYK0Hmk9"
      },
      "source": [
        "y_kmeans = kmeans.fit_predict(X)"
      ],
      "execution_count": null,
      "outputs": []
    },
    {
      "cell_type": "code",
      "execution_count": null,
      "metadata": {},
      "outputs": [],
      "source": []
    },
    {
      "cell_type": "code",
      "metadata": {
        "colab": {
          "base_uri": "https://localhost:8080/"
        },
        "id": "iLklY_3TH3V3",
        "outputId": "62ac35ea-c415-4f67-e4fc-a35d946eb47f"
      },
      "source": [
        "type(y_kmeans)"
      ],
      "execution_count": null,
      "outputs": [
        {
          "output_type": "execute_result",
          "data": {
            "text/plain": [
              "numpy.ndarray"
            ]
          },
          "metadata": {
            "tags": []
          },
          "execution_count": 21
        }
      ]
    },
    {
      "cell_type": "code",
      "metadata": {
        "colab": {
          "base_uri": "https://localhost:8080/"
        },
        "id": "2ZgRbMXLJnrM",
        "outputId": "dfdbf812-764a-42fe-b885-bc10fb8c6758"
      },
      "source": [
        "y_kmeans"
      ],
      "execution_count": null,
      "outputs": [
        {
          "output_type": "execute_result",
          "data": {
            "text/plain": [
              "array([1, 2, 0, 2, 1, 2, 2, 2, 0, 2, 2, 0, 0, 2, 2, 0, 0, 0, 0, 0, 0, 0,\n",
              "       0, 0, 0, 0, 0, 0, 0, 0, 0, 0, 0, 0], dtype=int32)"
            ]
          },
          "metadata": {
            "tags": []
          },
          "execution_count": 22
        }
      ]
    },
    {
      "cell_type": "markdown",
      "metadata": {
        "id": "rgN7NrkS8Dw0"
      },
      "source": [
        "## Visualising the clusters"
      ]
    },
    {
      "cell_type": "code",
      "execution_count": null,
      "metadata": {},
      "outputs": [],
      "source": []
    },
    {
      "cell_type": "code",
      "metadata": {
        "colab": {
          "base_uri": "https://localhost:8080/",
          "height": 533
        },
        "id": "DLq08RCtJ6cz",
        "outputId": "05dd1870-55c5-406e-94b5-25f817b8d26d"
      },
      "source": [
        "plt.scatter(X[y_kmeans==0, 0], X[y_kmeans==0, 1], s=100, c='red', label ='Cluster 1')\r\n",
        "plt.scatter(X[y_kmeans==1, 0], X[y_kmeans==1, 1], s=100, c='blue', label ='Cluster 2')\r\n",
        "plt.scatter(X[y_kmeans==2, 0], X[y_kmeans==2, 1], s=100, c='green', label ='Cluster 3')\r\n",
        "plt.scatter(kmeans.cluster_centers_[:, 0], kmeans.cluster_centers_[:, 1], s=300, c='yellow', label = 'Centroids')\r\n",
        "plt.title('Clusters of Healthworkers')\r\n",
        "plt.xlabel('State')\r\n",
        "plt.ylabel('Active')\r\n",
        "plt.show()"
      ],
      "execution_count": null,
      "outputs": [
        {
          "output_type": "display_data",
          "data": {
            "image/png": "[encoded data removed]",
            "text/plain": [
              "<Figure size 1130.4x595.44 with 1 Axes>"
            ]
          },
          "metadata": {
            "tags": []
          }
        }
      ]
    },
    {
      "cell_type": "code",
      "metadata": {
        "id": "m9c1ZiSAOpak",
        "colab": {
          "base_uri": "https://localhost:8080/"
        },
        "outputId": "8e98f3cf-00ff-4238-8940-51c77fa28882"
      },
      "source": [
        " for i in range(len(y_kmeans)):\r\n",
        "   print(df['State'].iloc[i:i+1],y_kmeans[i])"
      ],
      "execution_count": null,
      "outputs": [
        {
          "output_type": "stream",
          "text": [
            "1    Maharashtra\n",
            "Name: State, dtype: object 1\n",
            "2    Karnataka\n",
            "Name: State, dtype: object 2\n",
            "3    Andhra Pradesh\n",
            "Name: State, dtype: object 0\n",
            "4    Tamil Nadu\n",
            "Name: State, dtype: object 2\n",
            "5    Kerala\n",
            "Name: State, dtype: object 1\n",
            "6    Delhi\n",
            "Name: State, dtype: object 2\n",
            "7    Uttar Pradesh\n",
            "Name: State, dtype: object 2\n",
            "8    West Bengal\n",
            "Name: State, dtype: object 2\n",
            "9    Odisha\n",
            "Name: State, dtype: object 0\n",
            "10    Rajasthan\n",
            "Name: State, dtype: object 2\n",
            "11    Telangana\n",
            "Name: State, dtype: object 2\n",
            "12    Chhattisgarh\n",
            "Name: State, dtype: object 0\n",
            "13    Haryana\n",
            "Name: State, dtype: object 0\n",
            "14    Bihar\n",
            "Name: State, dtype: object 2\n",
            "15    Gujarat\n",
            "Name: State, dtype: object 2\n",
            "16    Madhya Pradesh\n",
            "Name: State, dtype: object 0\n",
            "17    Assam\n",
            "Name: State, dtype: object 0\n",
            "18    Punjab\n",
            "Name: State, dtype: object 0\n",
            "19    Jammu and Kashmir\n",
            "Name: State, dtype: object 0\n",
            "20    Jharkhand\n",
            "Name: State, dtype: object 0\n",
            "21    Uttarakhand\n",
            "Name: State, dtype: object 0\n",
            "22    Himachal Pradesh\n",
            "Name: State, dtype: object 0\n",
            "23    Goa\n",
            "Name: State, dtype: object 0\n",
            "24    Puducherry\n",
            "Name: State, dtype: object 0\n",
            "25    Tripura\n",
            "Name: State, dtype: object 0\n",
            "26    Manipur\n",
            "Name: State, dtype: object 0\n",
            "27    Chandigarh\n",
            "Name: State, dtype: object 0\n",
            "28    Arunachal Pradesh\n",
            "Name: State, dtype: object 0\n",
            "29    Meghalaya\n",
            "Name: State, dtype: object 0\n",
            "30    Nagaland\n",
            "Name: State, dtype: object 0\n",
            "31    Ladakh\n",
            "Name: State, dtype: object 0\n",
            "32    Sikkim\n",
            "Name: State, dtype: object 0\n",
            "33    Andaman and Nicobar Islands\n",
            "Name: State, dtype: object 0\n",
            "34    Mizoram\n",
            "Name: State, dtype: object 0\n"
          ],
          "name": "stdout"
        }
      ]
    },
    {
      "cell_type": "code",
      "metadata": {
        "id": "ijwL8Jsqa57J"
      },
      "source": [
        "X1.reset_index(inplace=True)"
      ],
      "execution_count": null,
      "outputs": []
    },
    {
      "cell_type": "code",
      "metadata": {
        "colab": {
          "base_uri": "https://localhost:8080/",
          "height": 1000
        },
        "id": "0947JKaaqOYF",
        "outputId": "3a2a50df-bc2c-47c3-a33b-8f6648f80849"
      },
      "source": [
        "X1"
      ],
      "execution_count": null,
      "outputs": [
        {
          "output_type": "execute_result",
          "data": {
            "text/html": [
              "<div>\n",
              "<style scoped>\n",
              "    .dataframe tbody tr th:only-of-type {\n",
              "        vertical-align: middle;\n",
              "    }\n",
              "\n",
              "    .dataframe tbody tr th {\n",
              "        vertical-align: top;\n",
              "    }\n",
              "\n",
              "    .dataframe thead th {\n",
              "        text-align: right;\n",
              "    }\n",
              "</style>\n",
              "<table border=\"1\" class=\"dataframe\">\n",
              "  <thead>\n",
              "    <tr style=\"text-align: right;\">\n",
              "      <th></th>\n",
              "      <th>index</th>\n",
              "      <th>Active</th>\n",
              "      <th>Health Workers(%)</th>\n",
              "      <th>State</th>\n",
              "    </tr>\n",
              "  </thead>\n",
              "  <tbody>\n",
              "    <tr>\n",
              "      <th>0</th>\n",
              "      <td>1</td>\n",
              "      <td>56823</td>\n",
              "      <td>13.67</td>\n",
              "      <td>Maharashtra</td>\n",
              "    </tr>\n",
              "    <tr>\n",
              "      <th>1</th>\n",
              "      <td>2</td>\n",
              "      <td>13508</td>\n",
              "      <td>5.27</td>\n",
              "      <td>Karnataka</td>\n",
              "    </tr>\n",
              "    <tr>\n",
              "      <th>2</th>\n",
              "      <td>3</td>\n",
              "      <td>3861</td>\n",
              "      <td>7.83</td>\n",
              "      <td>Andhra Pradesh</td>\n",
              "    </tr>\n",
              "    <tr>\n",
              "      <th>3</th>\n",
              "      <td>4</td>\n",
              "      <td>9129</td>\n",
              "      <td>6.72</td>\n",
              "      <td>Tamil Nadu</td>\n",
              "    </tr>\n",
              "    <tr>\n",
              "      <th>4</th>\n",
              "      <td>5</td>\n",
              "      <td>64032</td>\n",
              "      <td>6.06</td>\n",
              "      <td>Kerala</td>\n",
              "    </tr>\n",
              "    <tr>\n",
              "      <th>5</th>\n",
              "      <td>6</td>\n",
              "      <td>7267</td>\n",
              "      <td>3.22</td>\n",
              "      <td>Delhi</td>\n",
              "    </tr>\n",
              "    <tr>\n",
              "      <th>6</th>\n",
              "      <td>7</td>\n",
              "      <td>16159</td>\n",
              "      <td>10.81</td>\n",
              "      <td>Uttar Pradesh</td>\n",
              "    </tr>\n",
              "    <tr>\n",
              "      <th>7</th>\n",
              "      <td>8</td>\n",
              "      <td>14749</td>\n",
              "      <td>9.44</td>\n",
              "      <td>West Bengal</td>\n",
              "    </tr>\n",
              "    <tr>\n",
              "      <th>8</th>\n",
              "      <td>9</td>\n",
              "      <td>2583</td>\n",
              "      <td>3.54</td>\n",
              "      <td>Odisha</td>\n",
              "    </tr>\n",
              "    <tr>\n",
              "      <th>9</th>\n",
              "      <td>10</td>\n",
              "      <td>11700</td>\n",
              "      <td>3.92</td>\n",
              "      <td>Rajasthan</td>\n",
              "    </tr>\n",
              "    <tr>\n",
              "      <th>10</th>\n",
              "      <td>12</td>\n",
              "      <td>14759</td>\n",
              "      <td>1.66</td>\n",
              "      <td>Chhattisgarh</td>\n",
              "    </tr>\n",
              "    <tr>\n",
              "      <th>11</th>\n",
              "      <td>13</td>\n",
              "      <td>4750</td>\n",
              "      <td>2.09</td>\n",
              "      <td>Haryana</td>\n",
              "    </tr>\n",
              "    <tr>\n",
              "      <th>12</th>\n",
              "      <td>14</td>\n",
              "      <td>5347</td>\n",
              "      <td>4.42</td>\n",
              "      <td>Bihar</td>\n",
              "    </tr>\n",
              "    <tr>\n",
              "      <th>13</th>\n",
              "      <td>15</td>\n",
              "      <td>10531</td>\n",
              "      <td>4.27</td>\n",
              "      <td>Gujarat</td>\n",
              "    </tr>\n",
              "    <tr>\n",
              "      <th>14</th>\n",
              "      <td>16</td>\n",
              "      <td>10461</td>\n",
              "      <td>4.75</td>\n",
              "      <td>Madhya Pradesh</td>\n",
              "    </tr>\n",
              "    <tr>\n",
              "      <th>15</th>\n",
              "      <td>17</td>\n",
              "      <td>3422</td>\n",
              "      <td>1.91</td>\n",
              "      <td>Assam</td>\n",
              "    </tr>\n",
              "    <tr>\n",
              "      <th>16</th>\n",
              "      <td>18</td>\n",
              "      <td>4707</td>\n",
              "      <td>3.19</td>\n",
              "      <td>Punjab</td>\n",
              "    </tr>\n",
              "    <tr>\n",
              "      <th>17</th>\n",
              "      <td>19</td>\n",
              "      <td>3414</td>\n",
              "      <td>1.08</td>\n",
              "      <td>Jammu and Kashmir</td>\n",
              "    </tr>\n",
              "    <tr>\n",
              "      <th>18</th>\n",
              "      <td>20</td>\n",
              "      <td>1587</td>\n",
              "      <td>2.00</td>\n",
              "      <td>Jharkhand</td>\n",
              "    </tr>\n",
              "    <tr>\n",
              "      <th>19</th>\n",
              "      <td>21</td>\n",
              "      <td>5510</td>\n",
              "      <td>0.89</td>\n",
              "      <td>Uttarakhand</td>\n",
              "    </tr>\n",
              "    <tr>\n",
              "      <th>20</th>\n",
              "      <td>22</td>\n",
              "      <td>4347</td>\n",
              "      <td>0.76</td>\n",
              "      <td>Himachal Pradesh</td>\n",
              "    </tr>\n",
              "    <tr>\n",
              "      <th>21</th>\n",
              "      <td>23</td>\n",
              "      <td>980</td>\n",
              "      <td>0.29</td>\n",
              "      <td>Goa</td>\n",
              "    </tr>\n",
              "    <tr>\n",
              "      <th>22</th>\n",
              "      <td>24</td>\n",
              "      <td>349</td>\n",
              "      <td>0.25</td>\n",
              "      <td>Puducherry</td>\n",
              "    </tr>\n",
              "    <tr>\n",
              "      <th>23</th>\n",
              "      <td>25</td>\n",
              "      <td>184</td>\n",
              "      <td>0.28</td>\n",
              "      <td>Tripura</td>\n",
              "    </tr>\n",
              "    <tr>\n",
              "      <th>24</th>\n",
              "      <td>26</td>\n",
              "      <td>1352</td>\n",
              "      <td>0.27</td>\n",
              "      <td>Manipur</td>\n",
              "    </tr>\n",
              "    <tr>\n",
              "      <th>25</th>\n",
              "      <td>27</td>\n",
              "      <td>345</td>\n",
              "      <td>0.30</td>\n",
              "      <td>Chandigarh</td>\n",
              "    </tr>\n",
              "    <tr>\n",
              "      <th>26</th>\n",
              "      <td>28</td>\n",
              "      <td>168</td>\n",
              "      <td>0.14</td>\n",
              "      <td>Arunachal Pradesh</td>\n",
              "    </tr>\n",
              "    <tr>\n",
              "      <th>27</th>\n",
              "      <td>29</td>\n",
              "      <td>294</td>\n",
              "      <td>0.17</td>\n",
              "      <td>Meghalaya</td>\n",
              "    </tr>\n",
              "    <tr>\n",
              "      <th>28</th>\n",
              "      <td>30</td>\n",
              "      <td>274</td>\n",
              "      <td>0.26</td>\n",
              "      <td>Nagaland</td>\n",
              "    </tr>\n",
              "    <tr>\n",
              "      <th>29</th>\n",
              "      <td>32</td>\n",
              "      <td>418</td>\n",
              "      <td>0.12</td>\n",
              "      <td>Sikkim</td>\n",
              "    </tr>\n",
              "    <tr>\n",
              "      <th>30</th>\n",
              "      <td>33</td>\n",
              "      <td>69</td>\n",
              "      <td>0.09</td>\n",
              "      <td>Andaman and Nicobar Islands</td>\n",
              "    </tr>\n",
              "    <tr>\n",
              "      <th>31</th>\n",
              "      <td>34</td>\n",
              "      <td>134</td>\n",
              "      <td>0.25</td>\n",
              "      <td>Mizoram</td>\n",
              "    </tr>\n",
              "    <tr>\n",
              "      <th>32</th>\n",
              "      <td>35</td>\n",
              "      <td>12</td>\n",
              "      <td>0.03</td>\n",
              "      <td>Dadra and Nagar Haveli and Daman and Diu</td>\n",
              "    </tr>\n",
              "    <tr>\n",
              "      <th>33</th>\n",
              "      <td>37</td>\n",
              "      <td>0</td>\n",
              "      <td>0.01</td>\n",
              "      <td>Lakshadweep</td>\n",
              "    </tr>\n",
              "  </tbody>\n",
              "</table>\n",
              "</div>"
            ],
            "text/plain": [
              "    index  Active  Health Workers(%)                                     State\n",
              "0       1   56823              13.67                               Maharashtra\n",
              "1       2   13508               5.27                                 Karnataka\n",
              "2       3    3861               7.83                            Andhra Pradesh\n",
              "3       4    9129               6.72                                Tamil Nadu\n",
              "4       5   64032               6.06                                    Kerala\n",
              "5       6    7267               3.22                                     Delhi\n",
              "6       7   16159              10.81                             Uttar Pradesh\n",
              "7       8   14749               9.44                               West Bengal\n",
              "8       9    2583               3.54                                    Odisha\n",
              "9      10   11700               3.92                                 Rajasthan\n",
              "10     12   14759               1.66                              Chhattisgarh\n",
              "11     13    4750               2.09                                   Haryana\n",
              "12     14    5347               4.42                                     Bihar\n",
              "13     15   10531               4.27                                   Gujarat\n",
              "14     16   10461               4.75                            Madhya Pradesh\n",
              "15     17    3422               1.91                                     Assam\n",
              "16     18    4707               3.19                                    Punjab\n",
              "17     19    3414               1.08                         Jammu and Kashmir\n",
              "18     20    1587               2.00                                 Jharkhand\n",
              "19     21    5510               0.89                               Uttarakhand\n",
              "20     22    4347               0.76                          Himachal Pradesh\n",
              "21     23     980               0.29                                       Goa\n",
              "22     24     349               0.25                                Puducherry\n",
              "23     25     184               0.28                                   Tripura\n",
              "24     26    1352               0.27                                   Manipur\n",
              "25     27     345               0.30                                Chandigarh\n",
              "26     28     168               0.14                         Arunachal Pradesh\n",
              "27     29     294               0.17                                 Meghalaya\n",
              "28     30     274               0.26                                  Nagaland\n",
              "29     32     418               0.12                                    Sikkim\n",
              "30     33      69               0.09               Andaman and Nicobar Islands\n",
              "31     34     134               0.25                                   Mizoram\n",
              "32     35      12               0.03  Dadra and Nagar Haveli and Daman and Diu\n",
              "33     37       0               0.01                               Lakshadweep"
            ]
          },
          "metadata": {
            "tags": []
          },
          "execution_count": 26
        }
      ]
    },
    {
      "cell_type": "markdown",
      "metadata": {
        "id": "7vkL2hgu8sVP"
      },
      "source": [
        "#Creating a new dataframe with State and index"
      ]
    },
    {
      "cell_type": "code",
      "metadata": {
        "colab": {
          "base_uri": "https://localhost:8080/",
          "height": 195
        },
        "id": "hffApb8obTIp",
        "outputId": "11fbbc66-5a92-4ae8-d20d-a43a6780891c"
      },
      "source": [
        "active_index=X1[['State']]\r\n",
        "active_index.head()"
      ],
      "execution_count": null,
      "outputs": [
        {
          "output_type": "execute_result",
          "data": {
            "text/html": [
              "<div>\n",
              "<style scoped>\n",
              "    .dataframe tbody tr th:only-of-type {\n",
              "        vertical-align: middle;\n",
              "    }\n",
              "\n",
              "    .dataframe tbody tr th {\n",
              "        vertical-align: top;\n",
              "    }\n",
              "\n",
              "    .dataframe thead th {\n",
              "        text-align: right;\n",
              "    }\n",
              "</style>\n",
              "<table border=\"1\" class=\"dataframe\">\n",
              "  <thead>\n",
              "    <tr style=\"text-align: right;\">\n",
              "      <th></th>\n",
              "      <th>State</th>\n",
              "    </tr>\n",
              "  </thead>\n",
              "  <tbody>\n",
              "    <tr>\n",
              "      <th>0</th>\n",
              "      <td>Maharashtra</td>\n",
              "    </tr>\n",
              "    <tr>\n",
              "      <th>1</th>\n",
              "      <td>Karnataka</td>\n",
              "    </tr>\n",
              "    <tr>\n",
              "      <th>2</th>\n",
              "      <td>Andhra Pradesh</td>\n",
              "    </tr>\n",
              "    <tr>\n",
              "      <th>3</th>\n",
              "      <td>Tamil Nadu</td>\n",
              "    </tr>\n",
              "    <tr>\n",
              "      <th>4</th>\n",
              "      <td>Kerala</td>\n",
              "    </tr>\n",
              "  </tbody>\n",
              "</table>\n",
              "</div>"
            ],
            "text/plain": [
              "            State\n",
              "0     Maharashtra\n",
              "1       Karnataka\n",
              "2  Andhra Pradesh\n",
              "3      Tamil Nadu\n",
              "4          Kerala"
            ]
          },
          "metadata": {
            "tags": []
          },
          "execution_count": 27
        }
      ]
    },
    {
      "cell_type": "code",
      "metadata": {
        "colab": {
          "base_uri": "https://localhost:8080/"
        },
        "id": "j86iiPbMn2UK",
        "outputId": "1a77592b-fc29-4a56-ddb0-bb503d7be3ad"
      },
      "source": [
        "len(y_kmeans)"
      ],
      "execution_count": null,
      "outputs": [
        {
          "output_type": "execute_result",
          "data": {
            "text/plain": [
              "34"
            ]
          },
          "metadata": {
            "tags": []
          },
          "execution_count": 28
        }
      ]
    },
    {
      "cell_type": "code",
      "metadata": {
        "colab": {
          "base_uri": "https://localhost:8080/"
        },
        "id": "s11xxOpAbkw6",
        "outputId": "23e6a86e-d074-4789-c9c7-bd50390495e8"
      },
      "source": [
        "type(active_index)"
      ],
      "execution_count": null,
      "outputs": [
        {
          "output_type": "execute_result",
          "data": {
            "text/plain": [
              "pandas.core.frame.DataFrame"
            ]
          },
          "metadata": {
            "tags": []
          },
          "execution_count": 29
        }
      ]
    },
    {
      "cell_type": "code",
      "metadata": {
        "colab": {
          "base_uri": "https://localhost:8080/",
          "height": 1000
        },
        "id": "oW03bThybplm",
        "outputId": "a98e2f71-581c-48d6-ba94-85ffc340aab7"
      },
      "source": [
        "index=pd.DataFrame({'index':y_kmeans})\r\n",
        "index"
      ],
      "execution_count": null,
      "outputs": [
        {
          "output_type": "execute_result",
          "data": {
            "text/html": [
              "<div>\n",
              "<style scoped>\n",
              "    .dataframe tbody tr th:only-of-type {\n",
              "        vertical-align: middle;\n",
              "    }\n",
              "\n",
              "    .dataframe tbody tr th {\n",
              "        vertical-align: top;\n",
              "    }\n",
              "\n",
              "    .dataframe thead th {\n",
              "        text-align: right;\n",
              "    }\n",
              "</style>\n",
              "<table border=\"1\" class=\"dataframe\">\n",
              "  <thead>\n",
              "    <tr style=\"text-align: right;\">\n",
              "      <th></th>\n",
              "      <th>index</th>\n",
              "    </tr>\n",
              "  </thead>\n",
              "  <tbody>\n",
              "    <tr>\n",
              "      <th>0</th>\n",
              "      <td>1</td>\n",
              "    </tr>\n",
              "    <tr>\n",
              "      <th>1</th>\n",
              "      <td>2</td>\n",
              "    </tr>\n",
              "    <tr>\n",
              "      <th>2</th>\n",
              "      <td>0</td>\n",
              "    </tr>\n",
              "    <tr>\n",
              "      <th>3</th>\n",
              "      <td>2</td>\n",
              "    </tr>\n",
              "    <tr>\n",
              "      <th>4</th>\n",
              "      <td>1</td>\n",
              "    </tr>\n",
              "    <tr>\n",
              "      <th>5</th>\n",
              "      <td>2</td>\n",
              "    </tr>\n",
              "    <tr>\n",
              "      <th>6</th>\n",
              "      <td>2</td>\n",
              "    </tr>\n",
              "    <tr>\n",
              "      <th>7</th>\n",
              "      <td>2</td>\n",
              "    </tr>\n",
              "    <tr>\n",
              "      <th>8</th>\n",
              "      <td>0</td>\n",
              "    </tr>\n",
              "    <tr>\n",
              "      <th>9</th>\n",
              "      <td>2</td>\n",
              "    </tr>\n",
              "    <tr>\n",
              "      <th>10</th>\n",
              "      <td>2</td>\n",
              "    </tr>\n",
              "    <tr>\n",
              "      <th>11</th>\n",
              "      <td>0</td>\n",
              "    </tr>\n",
              "    <tr>\n",
              "      <th>12</th>\n",
              "      <td>0</td>\n",
              "    </tr>\n",
              "    <tr>\n",
              "      <th>13</th>\n",
              "      <td>2</td>\n",
              "    </tr>\n",
              "    <tr>\n",
              "      <th>14</th>\n",
              "      <td>2</td>\n",
              "    </tr>\n",
              "    <tr>\n",
              "      <th>15</th>\n",
              "      <td>0</td>\n",
              "    </tr>\n",
              "    <tr>\n",
              "      <th>16</th>\n",
              "      <td>0</td>\n",
              "    </tr>\n",
              "    <tr>\n",
              "      <th>17</th>\n",
              "      <td>0</td>\n",
              "    </tr>\n",
              "    <tr>\n",
              "      <th>18</th>\n",
              "      <td>0</td>\n",
              "    </tr>\n",
              "    <tr>\n",
              "      <th>19</th>\n",
              "      <td>0</td>\n",
              "    </tr>\n",
              "    <tr>\n",
              "      <th>20</th>\n",
              "      <td>0</td>\n",
              "    </tr>\n",
              "    <tr>\n",
              "      <th>21</th>\n",
              "      <td>0</td>\n",
              "    </tr>\n",
              "    <tr>\n",
              "      <th>22</th>\n",
              "      <td>0</td>\n",
              "    </tr>\n",
              "    <tr>\n",
              "      <th>23</th>\n",
              "      <td>0</td>\n",
              "    </tr>\n",
              "    <tr>\n",
              "      <th>24</th>\n",
              "      <td>0</td>\n",
              "    </tr>\n",
              "    <tr>\n",
              "      <th>25</th>\n",
              "      <td>0</td>\n",
              "    </tr>\n",
              "    <tr>\n",
              "      <th>26</th>\n",
              "      <td>0</td>\n",
              "    </tr>\n",
              "    <tr>\n",
              "      <th>27</th>\n",
              "      <td>0</td>\n",
              "    </tr>\n",
              "    <tr>\n",
              "      <th>28</th>\n",
              "      <td>0</td>\n",
              "    </tr>\n",
              "    <tr>\n",
              "      <th>29</th>\n",
              "      <td>0</td>\n",
              "    </tr>\n",
              "    <tr>\n",
              "      <th>30</th>\n",
              "      <td>0</td>\n",
              "    </tr>\n",
              "    <tr>\n",
              "      <th>31</th>\n",
              "      <td>0</td>\n",
              "    </tr>\n",
              "    <tr>\n",
              "      <th>32</th>\n",
              "      <td>0</td>\n",
              "    </tr>\n",
              "    <tr>\n",
              "      <th>33</th>\n",
              "      <td>0</td>\n",
              "    </tr>\n",
              "  </tbody>\n",
              "</table>\n",
              "</div>"
            ],
            "text/plain": [
              "    index\n",
              "0       1\n",
              "1       2\n",
              "2       0\n",
              "3       2\n",
              "4       1\n",
              "5       2\n",
              "6       2\n",
              "7       2\n",
              "8       0\n",
              "9       2\n",
              "10      2\n",
              "11      0\n",
              "12      0\n",
              "13      2\n",
              "14      2\n",
              "15      0\n",
              "16      0\n",
              "17      0\n",
              "18      0\n",
              "19      0\n",
              "20      0\n",
              "21      0\n",
              "22      0\n",
              "23      0\n",
              "24      0\n",
              "25      0\n",
              "26      0\n",
              "27      0\n",
              "28      0\n",
              "29      0\n",
              "30      0\n",
              "31      0\n",
              "32      0\n",
              "33      0"
            ]
          },
          "metadata": {
            "tags": []
          },
          "execution_count": 30
        }
      ]
    },
    {
      "cell_type": "code",
      "metadata": {
        "id": "2KVDvE15cWGb"
      },
      "source": [
        "active_index=active_index.join(index)"
      ],
      "execution_count": null,
      "outputs": []
    },
    {
      "cell_type": "code",
      "metadata": {
        "colab": {
          "base_uri": "https://localhost:8080/",
          "height": 225
        },
        "id": "eibpyL7YfOR7",
        "outputId": "9ff3d836-1de5-4a88-97fa-df31db20aacc"
      },
      "source": [
        "active_index=active_index.set_index('State')\r\n",
        "active_index.head()"
      ],
      "execution_count": null,
      "outputs": [
        {
          "output_type": "execute_result",
          "data": {
            "text/html": [
              "<div>\n",
              "<style scoped>\n",
              "    .dataframe tbody tr th:only-of-type {\n",
              "        vertical-align: middle;\n",
              "    }\n",
              "\n",
              "    .dataframe tbody tr th {\n",
              "        vertical-align: top;\n",
              "    }\n",
              "\n",
              "    .dataframe thead th {\n",
              "        text-align: right;\n",
              "    }\n",
              "</style>\n",
              "<table border=\"1\" class=\"dataframe\">\n",
              "  <thead>\n",
              "    <tr style=\"text-align: right;\">\n",
              "      <th></th>\n",
              "      <th>index</th>\n",
              "    </tr>\n",
              "    <tr>\n",
              "      <th>State</th>\n",
              "      <th></th>\n",
              "    </tr>\n",
              "  </thead>\n",
              "  <tbody>\n",
              "    <tr>\n",
              "      <th>Maharashtra</th>\n",
              "      <td>1</td>\n",
              "    </tr>\n",
              "    <tr>\n",
              "      <th>Karnataka</th>\n",
              "      <td>2</td>\n",
              "    </tr>\n",
              "    <tr>\n",
              "      <th>Andhra Pradesh</th>\n",
              "      <td>0</td>\n",
              "    </tr>\n",
              "    <tr>\n",
              "      <th>Tamil Nadu</th>\n",
              "      <td>2</td>\n",
              "    </tr>\n",
              "    <tr>\n",
              "      <th>Kerala</th>\n",
              "      <td>1</td>\n",
              "    </tr>\n",
              "  </tbody>\n",
              "</table>\n",
              "</div>"
            ],
            "text/plain": [
              "                index\n",
              "State                \n",
              "Maharashtra         1\n",
              "Karnataka           2\n",
              "Andhra Pradesh      0\n",
              "Tamil Nadu          2\n",
              "Kerala              1"
            ]
          },
          "metadata": {
            "tags": []
          },
          "execution_count": 32
        }
      ]
    },
    {
      "cell_type": "markdown",
      "metadata": {
        "id": "sZ14llTz9FmZ"
      },
      "source": [
        "#Converting to json file"
      ]
    },
    {
      "cell_type": "code",
      "metadata": {
        "id": "0I4J0K2kfR_c"
      },
      "source": [
        "active_index.to_json('healthworkers_index')"
      ],
      "execution_count": null,
      "outputs": []
    },
    {
      "cell_type": "code",
      "metadata": {
        "colab": {
          "base_uri": "https://localhost:8080/",
          "height": 266
        },
        "id": "6PZjLB3DfYTz",
        "outputId": "c98fb22e-6172-4981-b41e-ae2706fccbd4"
      },
      "source": [
        "df.head()"
      ],
      "execution_count": null,
      "outputs": [
        {
          "output_type": "execute_result",
          "data": {
            "text/html": [
              "<div>\n",
              "<style scoped>\n",
              "    .dataframe tbody tr th:only-of-type {\n",
              "        vertical-align: middle;\n",
              "    }\n",
              "\n",
              "    .dataframe tbody tr th {\n",
              "        vertical-align: top;\n",
              "    }\n",
              "\n",
              "    .dataframe thead th {\n",
              "        text-align: right;\n",
              "    }\n",
              "</style>\n",
              "<table border=\"1\" class=\"dataframe\">\n",
              "  <thead>\n",
              "    <tr style=\"text-align: right;\">\n",
              "      <th></th>\n",
              "      <th>State</th>\n",
              "      <th>Unnamed: 1</th>\n",
              "      <th>Confirmed</th>\n",
              "      <th>Recovered</th>\n",
              "      <th>Deaths</th>\n",
              "      <th>Active</th>\n",
              "      <th>Last_Updated_Time</th>\n",
              "      <th>Migrated_Other</th>\n",
              "      <th>State_code</th>\n",
              "      <th>Delta_Confirmed</th>\n",
              "      <th>Delta_Recovered</th>\n",
              "      <th>Delta_Deaths</th>\n",
              "      <th>State_Notes</th>\n",
              "      <th>Population</th>\n",
              "      <th>Density</th>\n",
              "      <th>0-4</th>\n",
              "      <th>2020-05-09 00:00:00</th>\n",
              "      <th>2020-10-14 00:00:00</th>\n",
              "      <th>15-19</th>\n",
              "      <th>20-24</th>\n",
              "      <th>25-29</th>\n",
              "      <th>30-34</th>\n",
              "      <th>35-39</th>\n",
              "      <th>40-44</th>\n",
              "      <th>45-49</th>\n",
              "      <th>50-54</th>\n",
              "      <th>55-59</th>\n",
              "      <th>60-64</th>\n",
              "      <th>65-69</th>\n",
              "      <th>70-74</th>\n",
              "      <th>75-79</th>\n",
              "      <th>80+</th>\n",
              "      <th>Health Workers(%)</th>\n",
              "      <th>Police Force</th>\n",
              "      <th>Vaccination Centres</th>\n",
              "    </tr>\n",
              "  </thead>\n",
              "  <tbody>\n",
              "    <tr>\n",
              "      <th>1</th>\n",
              "      <td>Maharashtra</td>\n",
              "      <td>NaN</td>\n",
              "      <td>1913382</td>\n",
              "      <td>1806298</td>\n",
              "      <td>49129</td>\n",
              "      <td>56823</td>\n",
              "      <td>25-12-2020 22:43</td>\n",
              "      <td>1132</td>\n",
              "      <td>MH</td>\n",
              "      <td>3431</td>\n",
              "      <td>1427</td>\n",
              "      <td>71</td>\n",
              "      <td>NaN</td>\n",
              "      <td>120837347.0</td>\n",
              "      <td>365.0</td>\n",
              "      <td>9362026.0</td>\n",
              "      <td>9820654.0</td>\n",
              "      <td>10734535.0</td>\n",
              "      <td>10627267.0</td>\n",
              "      <td>11090966.0</td>\n",
              "      <td>10147113.0</td>\n",
              "      <td>8796307.0</td>\n",
              "      <td>8247160.0</td>\n",
              "      <td>7196089.0</td>\n",
              "      <td>6032454.0</td>\n",
              "      <td>4919317.0</td>\n",
              "      <td>3885814.0</td>\n",
              "      <td>3642480.0</td>\n",
              "      <td>3078352.0</td>\n",
              "      <td>2143136.0</td>\n",
              "      <td>1062773.0</td>\n",
              "      <td>1180194.0</td>\n",
              "      <td>13.67</td>\n",
              "      <td>213382.0</td>\n",
              "      <td>3239.0</td>\n",
              "    </tr>\n",
              "    <tr>\n",
              "      <th>2</th>\n",
              "      <td>Karnataka</td>\n",
              "      <td>NaN</td>\n",
              "      <td>914488</td>\n",
              "      <td>888917</td>\n",
              "      <td>12044</td>\n",
              "      <td>13508</td>\n",
              "      <td>25-12-2020 20:23</td>\n",
              "      <td>19</td>\n",
              "      <td>KA</td>\n",
              "      <td>1005</td>\n",
              "      <td>1102</td>\n",
              "      <td>5</td>\n",
              "      <td>NaN</td>\n",
              "      <td>66165886.0</td>\n",
              "      <td>319.0</td>\n",
              "      <td>5046719.0</td>\n",
              "      <td>5241509.0</td>\n",
              "      <td>5736646.0</td>\n",
              "      <td>5827277.0</td>\n",
              "      <td>6052558.0</td>\n",
              "      <td>5771606.0</td>\n",
              "      <td>4698380.0</td>\n",
              "      <td>4695451.0</td>\n",
              "      <td>3826712.0</td>\n",
              "      <td>3519782.0</td>\n",
              "      <td>2699270.0</td>\n",
              "      <td>2142504.0</td>\n",
              "      <td>2060052.0</td>\n",
              "      <td>1520119.0</td>\n",
              "      <td>1061125.0</td>\n",
              "      <td>524426.0</td>\n",
              "      <td>625310.0</td>\n",
              "      <td>5.27</td>\n",
              "      <td>89009.0</td>\n",
              "      <td>2943.0</td>\n",
              "    </tr>\n",
              "    <tr>\n",
              "      <th>3</th>\n",
              "      <td>Andhra Pradesh</td>\n",
              "      <td>NaN</td>\n",
              "      <td>880430</td>\n",
              "      <td>869478</td>\n",
              "      <td>7091</td>\n",
              "      <td>3861</td>\n",
              "      <td>25-12-2020 19:09</td>\n",
              "      <td>0</td>\n",
              "      <td>AP</td>\n",
              "      <td>355</td>\n",
              "      <td>354</td>\n",
              "      <td>2</td>\n",
              "      <td>NaN</td>\n",
              "      <td>52883163.0</td>\n",
              "      <td>308.0</td>\n",
              "      <td>6284765.0</td>\n",
              "      <td>7304432.0</td>\n",
              "      <td>8201595.0</td>\n",
              "      <td>8093747.0</td>\n",
              "      <td>8132094.0</td>\n",
              "      <td>7799036.0</td>\n",
              "      <td>6584371.0</td>\n",
              "      <td>6507339.0</td>\n",
              "      <td>5399473.0</td>\n",
              "      <td>4657269.0</td>\n",
              "      <td>3657386.0</td>\n",
              "      <td>2909598.0</td>\n",
              "      <td>3199837.0</td>\n",
              "      <td>2167854.0</td>\n",
              "      <td>1519358.0</td>\n",
              "      <td>636989.0</td>\n",
              "      <td>754203.0</td>\n",
              "      <td>7.83</td>\n",
              "      <td>61168.0</td>\n",
              "      <td>1666.0</td>\n",
              "    </tr>\n",
              "    <tr>\n",
              "      <th>4</th>\n",
              "      <td>Tamil Nadu</td>\n",
              "      <td>NaN</td>\n",
              "      <td>812142</td>\n",
              "      <td>790965</td>\n",
              "      <td>12048</td>\n",
              "      <td>9129</td>\n",
              "      <td>25-12-2020 19:30</td>\n",
              "      <td>0</td>\n",
              "      <td>TN</td>\n",
              "      <td>1027</td>\n",
              "      <td>1103</td>\n",
              "      <td>12</td>\n",
              "      <td>NaN</td>\n",
              "      <td>76481545.0</td>\n",
              "      <td>555.0</td>\n",
              "      <td>5278701.0</td>\n",
              "      <td>5551255.0</td>\n",
              "      <td>6177547.0</td>\n",
              "      <td>6253792.0</td>\n",
              "      <td>6411543.0</td>\n",
              "      <td>6663746.0</td>\n",
              "      <td>5815560.0</td>\n",
              "      <td>5836456.0</td>\n",
              "      <td>5064209.0</td>\n",
              "      <td>4713056.0</td>\n",
              "      <td>3703460.0</td>\n",
              "      <td>3101142.0</td>\n",
              "      <td>2782608.0</td>\n",
              "      <td>1868370.0</td>\n",
              "      <td>1406529.0</td>\n",
              "      <td>710241.0</td>\n",
              "      <td>742010.0</td>\n",
              "      <td>6.72</td>\n",
              "      <td>110186.0</td>\n",
              "      <td>2581.0</td>\n",
              "    </tr>\n",
              "    <tr>\n",
              "      <th>5</th>\n",
              "      <td>Kerala</td>\n",
              "      <td>NaN</td>\n",
              "      <td>732085</td>\n",
              "      <td>664951</td>\n",
              "      <td>2931</td>\n",
              "      <td>64032</td>\n",
              "      <td>25-12-2020 21:52</td>\n",
              "      <td>171</td>\n",
              "      <td>KL</td>\n",
              "      <td>5397</td>\n",
              "      <td>4506</td>\n",
              "      <td>16</td>\n",
              "      <td>NaN</td>\n",
              "      <td>35330888.0</td>\n",
              "      <td>860.0</td>\n",
              "      <td>2453092.0</td>\n",
              "      <td>2555112.0</td>\n",
              "      <td>2822770.0</td>\n",
              "      <td>2610552.0</td>\n",
              "      <td>2665809.0</td>\n",
              "      <td>2604092.0</td>\n",
              "      <td>2455501.0</td>\n",
              "      <td>2579673.0</td>\n",
              "      <td>2412498.0</td>\n",
              "      <td>2348530.0</td>\n",
              "      <td>1928145.0</td>\n",
              "      <td>1742408.0</td>\n",
              "      <td>1414671.0</td>\n",
              "      <td>1002134.0</td>\n",
              "      <td>733372.0</td>\n",
              "      <td>501367.0</td>\n",
              "      <td>541849.0</td>\n",
              "      <td>6.06</td>\n",
              "      <td>48860.0</td>\n",
              "      <td>1297.0</td>\n",
              "    </tr>\n",
              "  </tbody>\n",
              "</table>\n",
              "</div>"
            ],
            "text/plain": [
              "            State  Unnamed: 1  ...  Police Force  Vaccination Centres\n",
              "1     Maharashtra         NaN  ...      213382.0               3239.0\n",
              "2       Karnataka         NaN  ...       89009.0               2943.0\n",
              "3  Andhra Pradesh         NaN  ...       61168.0               1666.0\n",
              "4      Tamil Nadu         NaN  ...      110186.0               2581.0\n",
              "5          Kerala         NaN  ...       48860.0               1297.0\n",
              "\n",
              "[5 rows x 35 columns]"
            ]
          },
          "metadata": {
            "tags": []
          },
          "execution_count": 34
        }
      ]
    },
    {
      "cell_type": "code",
      "metadata": {
        "colab": {
          "base_uri": "https://localhost:8080/"
        },
        "id": "BUAJWRyJfaF2",
        "outputId": "2fa3b5af-8842-41be-c717-665442948fa0"
      },
      "source": [
        " for i in range(len(y_kmeans)):\r\n",
        "   print(df['State'].iloc[i:i+1],y_kmeans[i])"
      ],
      "execution_count": null,
      "outputs": [
        {
          "output_type": "stream",
          "text": [
            "1    Maharashtra\n",
            "Name: State, dtype: object 1\n",
            "2    Karnataka\n",
            "Name: State, dtype: object 2\n",
            "3    Andhra Pradesh\n",
            "Name: State, dtype: object 0\n",
            "4    Tamil Nadu\n",
            "Name: State, dtype: object 2\n",
            "5    Kerala\n",
            "Name: State, dtype: object 1\n",
            "6    Delhi\n",
            "Name: State, dtype: object 2\n",
            "7    Uttar Pradesh\n",
            "Name: State, dtype: object 2\n",
            "8    West Bengal\n",
            "Name: State, dtype: object 2\n",
            "9    Odisha\n",
            "Name: State, dtype: object 0\n",
            "10    Rajasthan\n",
            "Name: State, dtype: object 2\n",
            "11    Telangana\n",
            "Name: State, dtype: object 2\n",
            "12    Chhattisgarh\n",
            "Name: State, dtype: object 0\n",
            "13    Haryana\n",
            "Name: State, dtype: object 0\n",
            "14    Bihar\n",
            "Name: State, dtype: object 2\n",
            "15    Gujarat\n",
            "Name: State, dtype: object 2\n",
            "16    Madhya Pradesh\n",
            "Name: State, dtype: object 0\n",
            "17    Assam\n",
            "Name: State, dtype: object 0\n",
            "18    Punjab\n",
            "Name: State, dtype: object 0\n",
            "19    Jammu and Kashmir\n",
            "Name: State, dtype: object 0\n",
            "20    Jharkhand\n",
            "Name: State, dtype: object 0\n",
            "21    Uttarakhand\n",
            "Name: State, dtype: object 0\n",
            "22    Himachal Pradesh\n",
            "Name: State, dtype: object 0\n",
            "23    Goa\n",
            "Name: State, dtype: object 0\n",
            "24    Puducherry\n",
            "Name: State, dtype: object 0\n",
            "25    Tripura\n",
            "Name: State, dtype: object 0\n",
            "26    Manipur\n",
            "Name: State, dtype: object 0\n",
            "27    Chandigarh\n",
            "Name: State, dtype: object 0\n",
            "28    Arunachal Pradesh\n",
            "Name: State, dtype: object 0\n",
            "29    Meghalaya\n",
            "Name: State, dtype: object 0\n",
            "30    Nagaland\n",
            "Name: State, dtype: object 0\n",
            "31    Ladakh\n",
            "Name: State, dtype: object 0\n",
            "32    Sikkim\n",
            "Name: State, dtype: object 0\n",
            "33    Andaman and Nicobar Islands\n",
            "Name: State, dtype: object 0\n",
            "34    Mizoram\n",
            "Name: State, dtype: object 0\n"
          ],
          "name": "stdout"
        }
      ]
    },
    {
      "cell_type": "code",
      "metadata": {
        "id": "cg5AuxAUfees"
      },
      "source": [
        "import json"
      ],
      "execution_count": null,
      "outputs": []
    },
    {
      "cell_type": "code",
      "metadata": {
        "colab": {
          "base_uri": "https://localhost:8080/"
        },
        "id": "Kout_8mAfjw0",
        "outputId": "5ca0e38b-3e0f-4c97-c557-fa18f17b3330"
      },
      "source": [
        "with open('./healthworkers_index') as f:\r\n",
        "        data = json.load(f)\r\n",
        "\r\n",
        "data       "
      ],
      "execution_count": null,
      "outputs": [
        {
          "output_type": "execute_result",
          "data": {
            "text/plain": [
              "{'index': {'Andaman and Nicobar Islands': 0,\n",
              "  'Andhra Pradesh': 0,\n",
              "  'Arunachal Pradesh': 0,\n",
              "  'Assam': 0,\n",
              "  'Bihar': 0,\n",
              "  'Chandigarh': 0,\n",
              "  'Chhattisgarh': 2,\n",
              "  'Dadra and Nagar Haveli and Daman and Diu': 0,\n",
              "  'Delhi': 2,\n",
              "  'Goa': 0,\n",
              "  'Gujarat': 2,\n",
              "  'Haryana': 0,\n",
              "  'Himachal Pradesh': 0,\n",
              "  'Jammu and Kashmir': 0,\n",
              "  'Jharkhand': 0,\n",
              "  'Karnataka': 2,\n",
              "  'Kerala': 1,\n",
              "  'Lakshadweep': 0,\n",
              "  'Madhya Pradesh': 2,\n",
              "  'Maharashtra': 1,\n",
              "  'Manipur': 0,\n",
              "  'Meghalaya': 0,\n",
              "  'Mizoram': 0,\n",
              "  'Nagaland': 0,\n",
              "  'Odisha': 0,\n",
              "  'Puducherry': 0,\n",
              "  'Punjab': 0,\n",
              "  'Rajasthan': 2,\n",
              "  'Sikkim': 0,\n",
              "  'Tamil Nadu': 2,\n",
              "  'Tripura': 0,\n",
              "  'Uttar Pradesh': 2,\n",
              "  'Uttarakhand': 0,\n",
              "  'West Bengal': 2}}"
            ]
          },
          "metadata": {
            "tags": []
          },
          "execution_count": 37
        }
      ]
    }
  ]
}